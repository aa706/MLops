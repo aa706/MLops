{
 "cells": [
  {
   "cell_type": "code",
   "execution_count": 1,
   "metadata": {},
   "outputs": [],
   "source": [
    "####################MLOPs using submitting job in py script#############"
   ]
  },
  {
   "cell_type": "code",
   "execution_count": 13,
   "metadata": {},
   "outputs": [],
   "source": [
    "from azureml.core import Workspace\n",
    "\n",
    "ws = Workspace(subscription_id='738974c0-9684-498b-bbd0-c53d6d04d964',resource_group='rg-oof-cus-d-001',workspace_name='ML-OOF-CUS-D')"
   ]
  },
  {
   "cell_type": "code",
   "execution_count": 2,
   "metadata": {},
   "outputs": [],
   "source": [
    "from azureml.core import Workspace, Experiment\n",
    "\n",
    "# Configure experiment\n",
    "# ws = Workspace.from_config()\n",
    "exp = Experiment(workspace=ws, name=\"spam-model\")"
   ]
  },
  {
   "cell_type": "code",
   "execution_count": 3,
   "metadata": {},
   "outputs": [],
   "source": [
    "#mlflow steps\n",
    "import mlflow\n",
    "# Set the MLflow experiment and start a run\n",
    "# mlflow.create_experiment(\"logging-with-mlflow\")\n",
    "# mlflow_run = mlflow.start_run()"
   ]
  },
  {
   "cell_type": "code",
   "execution_count": 4,
   "metadata": {},
   "outputs": [
    {
     "data": {
      "text/plain": [
       "<Experiment: artifact_location='file:///c:/Users/AA706/Desktop/Mlops/mlruns/568704309268466767', creation_time=1690042974887, experiment_id='568704309268466767', last_update_time=1690042974887, lifecycle_stage='active', name='mlflow-spammodel', tags={}>"
      ]
     },
     "execution_count": 4,
     "metadata": {},
     "output_type": "execute_result"
    }
   ],
   "source": [
    "#mlflow steps\n",
    "\n",
    "experiment_name = \"mlflow-spammodel\"\n",
    "mlflow.set_experiment(experiment_name)\n"
   ]
  },
  {
   "cell_type": "code",
   "execution_count": 5,
   "metadata": {},
   "outputs": [],
   "source": [
    "from azureml.core.dataset import Dataset\n",
    "\n",
    "dataset2 = Dataset.get_by_name(ws, 'cleaned_dataset')\n",
    "\n",
    "data_in2 = dataset2.as_named_input('cleaned_dataset')"
   ]
  },
  {
   "cell_type": "code",
   "execution_count": 6,
   "metadata": {},
   "outputs": [],
   "source": [
    "# mlflow.end_run()"
   ]
  },
  {
   "cell_type": "code",
   "execution_count": 7,
   "metadata": {},
   "outputs": [
    {
     "name": "stdout",
     "output_type": "stream",
     "text": [
      "Collecting azure-ai-mlNote: you may need to restart the kernel to use updated packages.\n"
     ]
    },
    {
     "name": "stderr",
     "output_type": "stream",
     "text": [
      "WARNING: Ignoring invalid distribution -rotobuf (c:\\users\\aa706\\appdata\\local\\programs\\python\\python310\\lib\\site-packages)\n",
      "WARNING: Ignoring invalid distribution -rotobuf (c:\\users\\aa706\\appdata\\local\\programs\\python\\python310\\lib\\site-packages)\n",
      "ERROR: pip's dependency resolver does not currently take into account all the packages that are installed. This behaviour is the source of the following dependency conflicts.\n",
      "azureml-mlflow 1.51.0 requires azure-storage-blob<=12.13.0,>=12.5.0, but you have azure-storage-blob 12.19.0 which is incompatible.\n",
      "azureml-widgets 1.49.0 requires jinja2<=2.11.2, but you have jinja2 3.1.2 which is incompatible.\n",
      "azureml-widgets 1.49.0 requires markupsafe<2.1.0, but you have markupsafe 2.1.3 which is incompatible.\n",
      "promptflow 0.1.0b5 requires cryptography<42.0.0,>=41.0.3, but you have cryptography 39.0.2 which is incompatible.\n",
      "promptflow 0.1.0b5 requires openai<0.28.0,>=0.27.8, but you have openai 0.28.0 which is incompatible.\n",
      "promptflow 0.1.0b5 requires pydash<6.0.0,>=5.1.2, but you have pydash 7.0.5 which is incompatible.\n"
     ]
    },
    {
     "name": "stdout",
     "output_type": "stream",
     "text": [
      "\n",
      "  Downloading azure_ai_ml-1.12.1-py3-none-any.whl.metadata (26 kB)\n",
      "Requirement already satisfied: pyyaml<7.0.0,>=5.1.0 in c:\\users\\aa706\\appdata\\local\\programs\\python\\python310\\lib\\site-packages (from azure-ai-ml) (6.0)\n",
      "Requirement already satisfied: msrest>=0.6.18 in c:\\users\\aa706\\appdata\\local\\programs\\python\\python310\\lib\\site-packages (from azure-ai-ml) (0.7.1)\n",
      "Requirement already satisfied: azure-core<2.0.0,>=1.23.0 in c:\\users\\aa706\\appdata\\local\\programs\\python\\python310\\lib\\site-packages (from azure-ai-ml) (1.29.4)\n",
      "Requirement already satisfied: azure-mgmt-core<2.0.0,>=1.3.0 in c:\\users\\aa706\\appdata\\local\\programs\\python\\python310\\lib\\site-packages (from azure-ai-ml) (1.3.2)\n",
      "Requirement already satisfied: marshmallow<4.0.0,>=3.5 in c:\\users\\aa706\\appdata\\local\\programs\\python\\python310\\lib\\site-packages (from azure-ai-ml) (3.19.0)\n",
      "Requirement already satisfied: jsonschema<5.0.0,>=4.0.0 in c:\\users\\aa706\\appdata\\local\\programs\\python\\python310\\lib\\site-packages (from azure-ai-ml) (4.17.3)\n",
      "Requirement already satisfied: tqdm<5.0.0 in c:\\users\\aa706\\appdata\\local\\programs\\python\\python310\\lib\\site-packages (from azure-ai-ml) (4.66.1)\n",
      "Collecting strictyaml<2.0.0 (from azure-ai-ml)\n",
      "  Downloading strictyaml-1.7.3-py3-none-any.whl (123 kB)\n",
      "     ---------------------------------------- 0.0/123.9 kB ? eta -:--:--\n",
      "     ------------------------- ------------- 81.9/123.9 kB 1.5 MB/s eta 0:00:01\n",
      "     -------------------------------------  122.9/123.9 kB 1.4 MB/s eta 0:00:01\n",
      "     -------------------------------------- 123.9/123.9 kB 1.2 MB/s eta 0:00:00\n",
      "Requirement already satisfied: colorama<0.5.0 in c:\\users\\aa706\\appdata\\local\\programs\\python\\python310\\lib\\site-packages (from azure-ai-ml) (0.4.6)\n",
      "Requirement already satisfied: pyjwt<3.0.0 in c:\\users\\aa706\\appdata\\local\\programs\\python\\python310\\lib\\site-packages (from azure-ai-ml) (2.8.0)\n",
      "Requirement already satisfied: azure-storage-blob<13.0.0,>=12.10.0 in c:\\users\\aa706\\appdata\\local\\programs\\python\\python310\\lib\\site-packages (from azure-ai-ml) (12.13.0)\n",
      "Requirement already satisfied: azure-storage-file-share<13.0.0 in c:\\users\\aa706\\appdata\\local\\programs\\python\\python310\\lib\\site-packages (from azure-ai-ml) (12.11.0)\n",
      "Collecting azure-storage-file-datalake<13.0.0 (from azure-ai-ml)\n",
      "  Downloading azure_storage_file_datalake-12.14.0-py3-none-any.whl.metadata (15 kB)\n",
      "Collecting pydash<7.0.6,>=6.0.0 (from azure-ai-ml)\n",
      "  Downloading pydash-7.0.5-py3-none-any.whl.metadata (45 kB)\n",
      "     ---------------------------------------- 0.0/45.4 kB ? eta -:--:--\n",
      "     -------------------------------------- 45.4/45.4 kB 747.6 kB/s eta 0:00:00\n",
      "Requirement already satisfied: isodate in c:\\users\\aa706\\appdata\\local\\programs\\python\\python310\\lib\\site-packages (from azure-ai-ml) (0.6.1)\n",
      "Requirement already satisfied: azure-common<2.0.0,>=1.1 in c:\\users\\aa706\\appdata\\local\\programs\\python\\python310\\lib\\site-packages (from azure-ai-ml) (1.1.28)\n",
      "Requirement already satisfied: typing-extensions<5.0.0 in c:\\users\\aa706\\appdata\\local\\programs\\python\\python310\\lib\\site-packages (from azure-ai-ml) (4.7.1)\n",
      "Collecting opencensus-ext-azure<2.0.0 (from azure-ai-ml)\n",
      "  Downloading opencensus_ext_azure-1.1.13-py2.py3-none-any.whl.metadata (16 kB)\n",
      "Requirement already satisfied: requests>=2.18.4 in c:\\users\\aa706\\appdata\\local\\programs\\python\\python310\\lib\\site-packages (from azure-core<2.0.0,>=1.23.0->azure-ai-ml) (2.31.0)\n",
      "Requirement already satisfied: six>=1.11.0 in c:\\users\\aa706\\appdata\\local\\programs\\python\\python310\\lib\\site-packages (from azure-core<2.0.0,>=1.23.0->azure-ai-ml) (1.16.0)\n",
      "Requirement already satisfied: cryptography>=2.1.4 in c:\\users\\aa706\\appdata\\local\\programs\\python\\python310\\lib\\site-packages (from azure-storage-blob<13.0.0,>=12.10.0->azure-ai-ml) (39.0.2)\n",
      "Collecting azure-storage-blob<13.0.0,>=12.10.0 (from azure-ai-ml)\n",
      "  Downloading azure_storage_blob-12.19.0-py3-none-any.whl.metadata (26 kB)\n",
      "Requirement already satisfied: attrs>=17.4.0 in c:\\users\\aa706\\appdata\\local\\programs\\python\\python310\\lib\\site-packages (from jsonschema<5.0.0,>=4.0.0->azure-ai-ml) (22.1.0)\n",
      "Requirement already satisfied: pyrsistent!=0.17.0,!=0.17.1,!=0.17.2,>=0.14.0 in c:\\users\\aa706\\appdata\\local\\programs\\python\\python310\\lib\\site-packages (from jsonschema<5.0.0,>=4.0.0->azure-ai-ml) (0.19.3)\n",
      "Requirement already satisfied: packaging>=17.0 in c:\\users\\aa706\\appdata\\local\\programs\\python\\python310\\lib\\site-packages (from marshmallow<4.0.0,>=3.5->azure-ai-ml) (23.2)\n",
      "Requirement already satisfied: certifi>=2017.4.17 in c:\\users\\aa706\\appdata\\local\\programs\\python\\python310\\lib\\site-packages (from msrest>=0.6.18->azure-ai-ml) (2023.7.22)\n",
      "Requirement already satisfied: requests-oauthlib>=0.5.0 in c:\\users\\aa706\\appdata\\local\\programs\\python\\python310\\lib\\site-packages (from msrest>=0.6.18->azure-ai-ml) (1.3.1)\n",
      "Requirement already satisfied: azure-identity<2.0.0,>=1.5.0 in c:\\users\\aa706\\appdata\\local\\programs\\python\\python310\\lib\\site-packages (from opencensus-ext-azure<2.0.0->azure-ai-ml) (1.12.0)\n",
      "Collecting opencensus<1.0.0,>=0.11.4 (from opencensus-ext-azure<2.0.0->azure-ai-ml)\n",
      "  Downloading opencensus-0.11.4-py2.py3-none-any.whl.metadata (12 kB)\n",
      "Requirement already satisfied: psutil>=5.6.3 in c:\\users\\aa706\\appdata\\roaming\\python\\python310\\site-packages (from opencensus-ext-azure<2.0.0->azure-ai-ml) (5.9.4)\n",
      "Requirement already satisfied: python-dateutil>=2.6.0 in c:\\users\\aa706\\appdata\\local\\programs\\python\\python310\\lib\\site-packages (from strictyaml<2.0.0->azure-ai-ml) (2.8.2)\n",
      "Requirement already satisfied: msal<2.0.0,>=1.12.0 in c:\\users\\aa706\\appdata\\local\\programs\\python\\python310\\lib\\site-packages (from azure-identity<2.0.0,>=1.5.0->opencensus-ext-azure<2.0.0->azure-ai-ml) (1.20.0)\n",
      "Requirement already satisfied: msal-extensions<2.0.0,>=0.3.0 in c:\\users\\aa706\\appdata\\local\\programs\\python\\python310\\lib\\site-packages (from azure-identity<2.0.0,>=1.5.0->opencensus-ext-azure<2.0.0->azure-ai-ml) (1.0.0)\n",
      "Requirement already satisfied: cffi>=1.12 in c:\\users\\aa706\\appdata\\local\\programs\\python\\python310\\lib\\site-packages (from cryptography>=2.1.4->azure-storage-blob<13.0.0,>=12.10.0->azure-ai-ml) (1.15.1)\n",
      "Collecting opencensus-context>=0.1.3 (from opencensus<1.0.0,>=0.11.4->opencensus-ext-azure<2.0.0->azure-ai-ml)\n",
      "  Downloading opencensus_context-0.1.3-py2.py3-none-any.whl (5.1 kB)\n",
      "Collecting google-api-core<3.0.0,>=1.0.0 (from opencensus<1.0.0,>=0.11.4->opencensus-ext-azure<2.0.0->azure-ai-ml)\n",
      "  Downloading google_api_core-2.15.0-py3-none-any.whl.metadata (2.7 kB)\n",
      "Requirement already satisfied: charset-normalizer<4,>=2 in c:\\users\\aa706\\appdata\\local\\programs\\python\\python310\\lib\\site-packages (from requests>=2.18.4->azure-core<2.0.0,>=1.23.0->azure-ai-ml) (3.3.0)\n",
      "Requirement already satisfied: idna<4,>=2.5 in c:\\users\\aa706\\appdata\\local\\programs\\python\\python310\\lib\\site-packages (from requests>=2.18.4->azure-core<2.0.0,>=1.23.0->azure-ai-ml) (3.3)\n",
      "Requirement already satisfied: urllib3<3,>=1.21.1 in c:\\users\\aa706\\appdata\\local\\programs\\python\\python310\\lib\\site-packages (from requests>=2.18.4->azure-core<2.0.0,>=1.23.0->azure-ai-ml) (1.26.11)\n",
      "Requirement already satisfied: oauthlib>=3.0.0 in c:\\users\\aa706\\appdata\\local\\programs\\python\\python310\\lib\\site-packages (from requests-oauthlib>=0.5.0->msrest>=0.6.18->azure-ai-ml) (3.2.2)\n",
      "Requirement already satisfied: pycparser in c:\\users\\aa706\\appdata\\local\\programs\\python\\python310\\lib\\site-packages (from cffi>=1.12->cryptography>=2.1.4->azure-storage-blob<13.0.0,>=12.10.0->azure-ai-ml) (2.21)\n",
      "Requirement already satisfied: googleapis-common-protos<2.0.dev0,>=1.56.2 in c:\\users\\aa706\\appdata\\local\\programs\\python\\python310\\lib\\site-packages (from google-api-core<3.0.0,>=1.0.0->opencensus<1.0.0,>=0.11.4->opencensus-ext-azure<2.0.0->azure-ai-ml) (1.60.0)\n",
      "Requirement already satisfied: protobuf!=3.20.0,!=3.20.1,!=4.21.0,!=4.21.1,!=4.21.2,!=4.21.3,!=4.21.4,!=4.21.5,<5.0.0.dev0,>=3.19.5 in c:\\users\\aa706\\appdata\\local\\programs\\python\\python310\\lib\\site-packages (from google-api-core<3.0.0,>=1.0.0->opencensus<1.0.0,>=0.11.4->opencensus-ext-azure<2.0.0->azure-ai-ml) (3.20.3)\n",
      "Requirement already satisfied: google-auth<3.0.dev0,>=2.14.1 in c:\\users\\aa706\\appdata\\local\\programs\\python\\python310\\lib\\site-packages (from google-api-core<3.0.0,>=1.0.0->opencensus<1.0.0,>=0.11.4->opencensus-ext-azure<2.0.0->azure-ai-ml) (2.16.0)\n",
      "Requirement already satisfied: portalocker<3,>=1.6 in c:\\users\\aa706\\appdata\\local\\programs\\python\\python310\\lib\\site-packages (from msal-extensions<2.0.0,>=0.3.0->azure-identity<2.0.0,>=1.5.0->opencensus-ext-azure<2.0.0->azure-ai-ml) (2.7.0)\n",
      "Requirement already satisfied: cachetools<6.0,>=2.0.0 in c:\\users\\aa706\\appdata\\local\\programs\\python\\python310\\lib\\site-packages (from google-auth<3.0.dev0,>=2.14.1->google-api-core<3.0.0,>=1.0.0->opencensus<1.0.0,>=0.11.4->opencensus-ext-azure<2.0.0->azure-ai-ml) (5.2.1)\n",
      "Requirement already satisfied: pyasn1-modules>=0.2.1 in c:\\users\\aa706\\appdata\\local\\programs\\python\\python310\\lib\\site-packages (from google-auth<3.0.dev0,>=2.14.1->google-api-core<3.0.0,>=1.0.0->opencensus<1.0.0,>=0.11.4->opencensus-ext-azure<2.0.0->azure-ai-ml) (0.2.8)\n",
      "Requirement already satisfied: rsa<5,>=3.1.4 in c:\\users\\aa706\\appdata\\local\\programs\\python\\python310\\lib\\site-packages (from google-auth<3.0.dev0,>=2.14.1->google-api-core<3.0.0,>=1.0.0->opencensus<1.0.0,>=0.11.4->opencensus-ext-azure<2.0.0->azure-ai-ml) (4.9)\n",
      "Requirement already satisfied: pywin32>=226 in c:\\users\\aa706\\appdata\\roaming\\python\\python310\\site-packages (from portalocker<3,>=1.6->msal-extensions<2.0.0,>=0.3.0->azure-identity<2.0.0,>=1.5.0->opencensus-ext-azure<2.0.0->azure-ai-ml) (305)\n",
      "Requirement already satisfied: pyasn1<0.5.0,>=0.4.6 in c:\\users\\aa706\\appdata\\local\\programs\\python\\python310\\lib\\site-packages (from pyasn1-modules>=0.2.1->google-auth<3.0.dev0,>=2.14.1->google-api-core<3.0.0,>=1.0.0->opencensus<1.0.0,>=0.11.4->opencensus-ext-azure<2.0.0->azure-ai-ml) (0.4.8)\n",
      "Downloading azure_ai_ml-1.12.1-py3-none-any.whl (8.3 MB)\n",
      "   ---------------------------------------- 0.0/8.3 MB ? eta -:--:--\n",
      "    --------------------------------------- 0.2/8.3 MB 3.5 MB/s eta 0:00:03\n",
      "   - -------------------------------------- 0.3/8.3 MB 3.5 MB/s eta 0:00:03\n",
      "   -- ------------------------------------- 0.5/8.3 MB 3.6 MB/s eta 0:00:03\n",
      "   --- ------------------------------------ 0.7/8.3 MB 3.6 MB/s eta 0:00:03\n",
      "   ---- ----------------------------------- 0.8/8.3 MB 3.5 MB/s eta 0:00:03\n",
      "   ---- ----------------------------------- 1.0/8.3 MB 3.6 MB/s eta 0:00:03\n",
      "   ----- ---------------------------------- 1.2/8.3 MB 3.7 MB/s eta 0:00:02\n",
      "   ------ --------------------------------- 1.4/8.3 MB 3.7 MB/s eta 0:00:02\n",
      "   ------- -------------------------------- 1.5/8.3 MB 3.8 MB/s eta 0:00:02\n",
      "   -------- ------------------------------- 1.8/8.3 MB 3.7 MB/s eta 0:00:02\n",
      "   --------- ------------------------------ 1.9/8.3 MB 3.7 MB/s eta 0:00:02\n",
      "   ---------- ----------------------------- 2.1/8.3 MB 3.8 MB/s eta 0:00:02\n",
      "   ---------- ----------------------------- 2.3/8.3 MB 3.8 MB/s eta 0:00:02\n",
      "   ----------- ---------------------------- 2.5/8.3 MB 3.8 MB/s eta 0:00:02\n",
      "   ------------ --------------------------- 2.7/8.3 MB 3.9 MB/s eta 0:00:02\n",
      "   ------------- -------------------------- 2.9/8.3 MB 3.9 MB/s eta 0:00:02\n",
      "   -------------- ------------------------- 3.1/8.3 MB 3.9 MB/s eta 0:00:02\n",
      "   --------------- ------------------------ 3.2/8.3 MB 3.9 MB/s eta 0:00:02\n",
      "   ---------------- ----------------------- 3.5/8.3 MB 3.9 MB/s eta 0:00:02\n",
      "   ----------------- ---------------------- 3.7/8.3 MB 4.0 MB/s eta 0:00:02\n",
      "   ------------------ --------------------- 3.9/8.3 MB 4.0 MB/s eta 0:00:02\n",
      "   ------------------- -------------------- 4.1/8.3 MB 4.1 MB/s eta 0:00:02\n",
      "   -------------------- ------------------- 4.3/8.3 MB 4.1 MB/s eta 0:00:01\n",
      "   --------------------- ------------------ 4.5/8.3 MB 4.1 MB/s eta 0:00:01\n",
      "   ---------------------- ----------------- 4.8/8.3 MB 4.2 MB/s eta 0:00:01\n",
      "   ----------------------- ---------------- 5.0/8.3 MB 4.2 MB/s eta 0:00:01\n",
      "   ------------------------- -------------- 5.2/8.3 MB 4.2 MB/s eta 0:00:01\n",
      "   -------------------------- ------------- 5.4/8.3 MB 4.2 MB/s eta 0:00:01\n",
      "   --------------------------- ------------ 5.7/8.3 MB 4.3 MB/s eta 0:00:01\n",
      "   --------------------------- ------------ 5.8/8.3 MB 4.3 MB/s eta 0:00:01\n",
      "   ----------------------------- ---------- 6.2/8.3 MB 4.3 MB/s eta 0:00:01\n",
      "   ----------------------------- ---------- 6.2/8.3 MB 4.3 MB/s eta 0:00:01\n",
      "   ----------------------------- ---------- 6.2/8.3 MB 4.3 MB/s eta 0:00:01\n",
      "   ----------------------------- ---------- 6.2/8.3 MB 4.3 MB/s eta 0:00:01\n",
      "   ----------------------------- ---------- 6.2/8.3 MB 4.3 MB/s eta 0:00:01\n",
      "   -------------------------------- ------- 6.7/8.3 MB 4.0 MB/s eta 0:00:01\n",
      "   --------------------------------- ------ 6.9/8.3 MB 4.0 MB/s eta 0:00:01\n",
      "   ---------------------------------- ----- 7.1/8.3 MB 4.1 MB/s eta 0:00:01\n",
      "   ----------------------------------- ---- 7.4/8.3 MB 4.1 MB/s eta 0:00:01\n",
      "   ------------------------------------ --- 7.6/8.3 MB 4.2 MB/s eta 0:00:01\n",
      "   ------------------------------------- -- 7.9/8.3 MB 4.2 MB/s eta 0:00:01\n",
      "   ---------------------------------------  8.2/8.3 MB 4.2 MB/s eta 0:00:01\n",
      "   ---------------------------------------  8.3/8.3 MB 4.2 MB/s eta 0:00:01\n",
      "   ---------------------------------------- 8.3/8.3 MB 4.2 MB/s eta 0:00:00\n",
      "Downloading azure_storage_file_datalake-12.14.0-py3-none-any.whl (251 kB)\n",
      "   ---------------------------------------- 0.0/251.0 kB ? eta -:--:--\n",
      "   ---------------------------------------  245.8/251.0 kB 7.4 MB/s eta 0:00:01\n",
      "   ---------------------------------------- 251.0/251.0 kB 5.1 MB/s eta 0:00:00\n",
      "Downloading azure_storage_blob-12.19.0-py3-none-any.whl (394 kB)\n",
      "   ---------------------------------------- 0.0/394.2 kB ? eta -:--:--\n",
      "   ----------------------- ---------------- 235.5/394.2 kB 4.8 MB/s eta 0:00:01\n",
      "   ---------------------------------------- 394.2/394.2 kB 4.9 MB/s eta 0:00:00\n",
      "Downloading opencensus_ext_azure-1.1.13-py2.py3-none-any.whl (43 kB)\n",
      "   ---------------------------------------- 0.0/43.4 kB ? eta -:--:--\n",
      "   ---------------------------------------- 43.4/43.4 kB 1.1 MB/s eta 0:00:00\n",
      "Downloading pydash-7.0.5-py3-none-any.whl (109 kB)\n",
      "   ---------------------------------------- 0.0/109.7 kB ? eta -:--:--\n",
      "   ---------------------------------------- 109.7/109.7 kB 2.2 MB/s eta 0:00:00\n",
      "Downloading opencensus-0.11.4-py2.py3-none-any.whl (128 kB)\n",
      "   ---------------------------------------- 0.0/128.2 kB ? eta -:--:--\n",
      "   -------------------------------------- - 122.9/128.2 kB 3.6 MB/s eta 0:00:01\n",
      "   ---------------------------------------- 128.2/128.2 kB 2.6 MB/s eta 0:00:00\n",
      "Downloading google_api_core-2.15.0-py3-none-any.whl (121 kB)\n",
      "   ---------------------------------------- 0.0/122.0 kB ? eta -:--:--\n",
      "   ------------------------------------ --- 112.6/122.0 kB 3.3 MB/s eta 0:00:01\n",
      "   ---------------------------------------- 122.0/122.0 kB 2.4 MB/s eta 0:00:00\n",
      "Installing collected packages: opencensus-context, pydash, strictyaml, google-api-core, azure-storage-blob, opencensus, azure-storage-file-datalake, opencensus-ext-azure, azure-ai-ml\n",
      "  Attempting uninstall: pydash\n",
      "    Found existing installation: pydash 5.1.2\n",
      "    Uninstalling pydash-5.1.2:\n",
      "      Successfully uninstalled pydash-5.1.2\n",
      "  Attempting uninstall: azure-storage-blob\n",
      "    Found existing installation: azure-storage-blob 12.13.0\n",
      "    Uninstalling azure-storage-blob-12.13.0:\n",
      "      Successfully uninstalled azure-storage-blob-12.13.0\n",
      "Successfully installed azure-ai-ml-1.12.1 azure-storage-blob-12.19.0 azure-storage-file-datalake-12.14.0 google-api-core-2.15.0 opencensus-0.11.4 opencensus-context-0.1.3 opencensus-ext-azure-1.1.13 pydash-7.0.5 strictyaml-1.7.3\n"
     ]
    }
   ],
   "source": [
    "%pip install azure-ai-ml"
   ]
  },
  {
   "cell_type": "code",
   "execution_count": 2,
   "metadata": {},
   "outputs": [],
   "source": [
    "from azure.identity import DefaultAzureCredential  \n",
    "from azure.mgmt.network import NetworkManagementClient  \n",
    "from azure.mgmt.compute import ComputeManagementClient  \n",
    "from azure.mgmt.compute.models import (HardwareProfile, StorageProfile, NetworkProfile,  \n",
    "                                       NetworkInterfaceReference, OSProfile, VirtualMachine)  \n",
    "  \n",
    "# Azure setup - ensure you have the correct subscription_id  \n",
    "subscription_id = '738974c0-9684-498b-bbd0-c53d6d04d964'  \n",
    "resource_group_name = 'rg-oof-cus-d-001'  \n",
    "location = 'centralus'\n",
    "vm_name = 'PL-ML-OOF-CUS-D'  \n",
    "network_name = 'CUS-OOF-D-VNET'  \n",
    "subnet_name = 'PrivateLink'  \n",
    "# nic_name = 'your-nic-name'  \n",
    "  \n",
    "# Authentication with Azure  \n",
    "credentials = DefaultAzureCredential()  \n",
    "  \n",
    "# Initialize management client  \n",
    "network_client = NetworkManagementClient(credentials, subscription_id)  \n",
    "compute_client = ComputeManagementClient(credentials, subscription_id)  \n",
    "  \n",
    "# Get the subnet reference  \n",
    "subnet_info = network_client.subnets.get(resource_group_name, network_name, subnet_name)  \n",
    " \n",
    "# vm_result = compute_client.virtual_machines.begin_create_or_update(  \n",
    "#     resource_group_name, vm_name, vm_params).result()  \n",
    "  \n",
    "print(f\"Provisioned virtual machine {vm_result.name}\")  \n"
   ]
  },
  {
   "cell_type": "code",
   "execution_count": 11,
   "metadata": {},
   "outputs": [],
   "source": [
    "from azure.ai.ml import MLClient\n",
    "from azure.identity import DefaultAzureCredential\n",
    "\n",
    "# Enter details of your AML workspace\n",
    "subscription_id = \"738974c0-9684-498b-bbd0-c53d6d04d964\"\n",
    "resource_group='rg-oof-cus-d-001'\n",
    "workspace='ML-OOF-CUS-D'\n",
    "\n",
    "ml_client = MLClient(\n",
    "    DefaultAzureCredential(), subscription_id, resource_group, workspace\n",
    ")"
   ]
  },
  {
   "cell_type": "code",
   "execution_count": 14,
   "metadata": {},
   "outputs": [
    {
     "ename": "ClientAuthenticationError",
     "evalue": "DefaultAzureCredential failed to retrieve a token from the included credentials.\nAttempted credentials:\n\tEnvironmentCredential: EnvironmentCredential authentication unavailable. Environment variables are not fully configured.\nVisit https://aka.ms/azsdk/python/identity/environmentcredential/troubleshoot to troubleshoot.this issue.\n\tManagedIdentityCredential: Unexpected content type \"text/html\"\nContent: <html><head><title>504 Gateway Timeout</title></head>\r\n<body><h1>Gateway Timeout</h1>\r\n<p>Server error - server 169.254.169.254 is unreachable at this moment.<br><br>Please retry the request or contact your administrator.<br></p>\r\n<!--Zscaler/6.2--></body></html>\r\n\nTo mitigate this issue, please refer to the troubleshooting guidelines here at https://aka.ms/azsdk/python/identity/defaultazurecredential/troubleshoot.",
     "output_type": "error",
     "traceback": [
      "\u001b[1;31m---------------------------------------------------------------------------\u001b[0m",
      "\u001b[1;31mClientAuthenticationError\u001b[0m                 Traceback (most recent call last)",
      "Cell \u001b[1;32mIn[14], line 6\u001b[0m\n\u001b[0;32m      4\u001b[0m ci_basic_name \u001b[39m=\u001b[39m \u001b[39m\"\u001b[39m\u001b[39mbasic-ci\u001b[39m\u001b[39m\"\u001b[39m \u001b[39m+\u001b[39m datetime\u001b[39m.\u001b[39mdatetime\u001b[39m.\u001b[39mnow()\u001b[39m.\u001b[39mstrftime(\u001b[39m\"\u001b[39m\u001b[39m%\u001b[39m\u001b[39mY\u001b[39m\u001b[39m%\u001b[39m\u001b[39mm\u001b[39m\u001b[39m%d\u001b[39;00m\u001b[39m%\u001b[39m\u001b[39mH\u001b[39m\u001b[39m%\u001b[39m\u001b[39mM\u001b[39m\u001b[39m\"\u001b[39m)\n\u001b[0;32m      5\u001b[0m ci_basic \u001b[39m=\u001b[39m ComputeInstance(name\u001b[39m=\u001b[39mci_basic_name, size\u001b[39m=\u001b[39m\u001b[39m\"\u001b[39m\u001b[39mStandard_E4s_v3\u001b[39m\u001b[39m\"\u001b[39m)\n\u001b[1;32m----> 6\u001b[0m ml_client\u001b[39m.\u001b[39;49mbegin_create_or_update(ci_basic)\u001b[39m.\u001b[39mresult()\n",
      "File \u001b[1;32mc:\\Users\\AA706\\AppData\\Local\\Programs\\Python\\Python310\\lib\\site-packages\\azure\\ai\\ml\\_ml_client.py:1099\u001b[0m, in \u001b[0;36mMLClient.begin_create_or_update\u001b[1;34m(self, entity, **kwargs)\u001b[0m\n\u001b[0;32m   1080\u001b[0m \u001b[39mdef\u001b[39;00m \u001b[39mbegin_create_or_update\u001b[39m(\n\u001b[0;32m   1081\u001b[0m     \u001b[39mself\u001b[39m,\n\u001b[0;32m   1082\u001b[0m     entity: R,\n\u001b[0;32m   1083\u001b[0m     \u001b[39m*\u001b[39m\u001b[39m*\u001b[39mkwargs,\n\u001b[0;32m   1084\u001b[0m ) \u001b[39m-\u001b[39m\u001b[39m>\u001b[39m LROPoller[R]:\n\u001b[0;32m   1085\u001b[0m \u001b[39m    \u001b[39m\u001b[39m\"\"\"Creates or updates an Azure ML resource asynchronously.\u001b[39;00m\n\u001b[0;32m   1086\u001b[0m \n\u001b[0;32m   1087\u001b[0m \u001b[39m    :param entity: The resource to create or update.\u001b[39;00m\n\u001b[1;32m   (...)\u001b[0m\n\u001b[0;32m   1096\u001b[0m \u001b[39m        , ~azure.ai.ml.entities.BatchEndpoint, ~azure.ai.ml.entities.Schedule]]\u001b[39;00m\n\u001b[0;32m   1097\u001b[0m \u001b[39m    \"\"\"\u001b[39;00m\n\u001b[1;32m-> 1099\u001b[0m     \u001b[39mreturn\u001b[39;00m _begin_create_or_update(entity, \u001b[39mself\u001b[39m\u001b[39m.\u001b[39m_operation_container\u001b[39m.\u001b[39mall_operations, \u001b[39m*\u001b[39m\u001b[39m*\u001b[39mkwargs)\n",
      "File \u001b[1;32mc:\\Users\\AA706\\AppData\\Local\\Programs\\Python\\Python310\\lib\\functools.py:889\u001b[0m, in \u001b[0;36msingledispatch.<locals>.wrapper\u001b[1;34m(*args, **kw)\u001b[0m\n\u001b[0;32m    885\u001b[0m \u001b[39mif\u001b[39;00m \u001b[39mnot\u001b[39;00m args:\n\u001b[0;32m    886\u001b[0m     \u001b[39mraise\u001b[39;00m \u001b[39mTypeError\u001b[39;00m(\u001b[39mf\u001b[39m\u001b[39m'\u001b[39m\u001b[39m{\u001b[39;00mfuncname\u001b[39m}\u001b[39;00m\u001b[39m requires at least \u001b[39m\u001b[39m'\u001b[39m\n\u001b[0;32m    887\u001b[0m                     \u001b[39m'\u001b[39m\u001b[39m1 positional argument\u001b[39m\u001b[39m'\u001b[39m)\n\u001b[1;32m--> 889\u001b[0m \u001b[39mreturn\u001b[39;00m dispatch(args[\u001b[39m0\u001b[39m]\u001b[39m.\u001b[39m\u001b[39m__class__\u001b[39m)(\u001b[39m*\u001b[39margs, \u001b[39m*\u001b[39m\u001b[39m*\u001b[39mkw)\n",
      "File \u001b[1;32mc:\\Users\\AA706\\AppData\\Local\\Programs\\Python\\Python310\\lib\\site-packages\\azure\\ai\\ml\\_ml_client.py:1181\u001b[0m, in \u001b[0;36m_\u001b[1;34m(entity, operations, *args, **kwargs)\u001b[0m\n\u001b[0;32m   1178\u001b[0m \u001b[39m@_begin_create_or_update\u001b[39m\u001b[39m.\u001b[39mregister(Compute)\n\u001b[0;32m   1179\u001b[0m \u001b[39mdef\u001b[39;00m \u001b[39m_\u001b[39m(entity: Compute, operations, \u001b[39m*\u001b[39margs, \u001b[39m*\u001b[39m\u001b[39m*\u001b[39mkwargs):\n\u001b[0;32m   1180\u001b[0m     module_logger\u001b[39m.\u001b[39mdebug(\u001b[39m\"\u001b[39m\u001b[39mCreating or updating compute\u001b[39m\u001b[39m\"\u001b[39m)\n\u001b[1;32m-> 1181\u001b[0m     \u001b[39mreturn\u001b[39;00m operations[AzureMLResourceType\u001b[39m.\u001b[39mCOMPUTE]\u001b[39m.\u001b[39mbegin_create_or_update(entity, \u001b[39m*\u001b[39m\u001b[39m*\u001b[39mkwargs)\n",
      "File \u001b[1;32mc:\\Users\\AA706\\AppData\\Local\\Programs\\Python\\Python310\\lib\\site-packages\\azure\\core\\tracing\\decorator.py:78\u001b[0m, in \u001b[0;36mdistributed_trace.<locals>.decorator.<locals>.wrapper_use_tracer\u001b[1;34m(*args, **kwargs)\u001b[0m\n\u001b[0;32m     76\u001b[0m span_impl_type \u001b[39m=\u001b[39m settings\u001b[39m.\u001b[39mtracing_implementation()\n\u001b[0;32m     77\u001b[0m \u001b[39mif\u001b[39;00m span_impl_type \u001b[39mis\u001b[39;00m \u001b[39mNone\u001b[39;00m:\n\u001b[1;32m---> 78\u001b[0m     \u001b[39mreturn\u001b[39;00m func(\u001b[39m*\u001b[39margs, \u001b[39m*\u001b[39m\u001b[39m*\u001b[39mkwargs)\n\u001b[0;32m     80\u001b[0m \u001b[39m# Merge span is parameter is set, but only if no explicit parent are passed\u001b[39;00m\n\u001b[0;32m     81\u001b[0m \u001b[39mif\u001b[39;00m merge_span \u001b[39mand\u001b[39;00m \u001b[39mnot\u001b[39;00m passed_in_parent:\n",
      "File \u001b[1;32mc:\\Users\\AA706\\AppData\\Local\\Programs\\Python\\Python310\\lib\\site-packages\\azure\\ai\\ml\\_telemetry\\activity.py:275\u001b[0m, in \u001b[0;36mmonitor_with_activity.<locals>.monitor.<locals>.wrapper\u001b[1;34m(*args, **kwargs)\u001b[0m\n\u001b[0;32m    272\u001b[0m \u001b[39m@functools\u001b[39m\u001b[39m.\u001b[39mwraps(f)\n\u001b[0;32m    273\u001b[0m \u001b[39mdef\u001b[39;00m \u001b[39mwrapper\u001b[39m(\u001b[39m*\u001b[39margs, \u001b[39m*\u001b[39m\u001b[39m*\u001b[39mkwargs):\n\u001b[0;32m    274\u001b[0m     \u001b[39mwith\u001b[39;00m log_activity(logger, activity_name \u001b[39mor\u001b[39;00m f\u001b[39m.\u001b[39m\u001b[39m__name__\u001b[39m, activity_type, custom_dimensions):\n\u001b[1;32m--> 275\u001b[0m         \u001b[39mreturn\u001b[39;00m f(\u001b[39m*\u001b[39margs, \u001b[39m*\u001b[39m\u001b[39m*\u001b[39mkwargs)\n",
      "File \u001b[1;32mc:\\Users\\AA706\\AppData\\Local\\Programs\\Python\\Python310\\lib\\site-packages\\azure\\ai\\ml\\operations\\_compute_operations.py:161\u001b[0m, in \u001b[0;36mComputeOperations.begin_create_or_update\u001b[1;34m(self, compute)\u001b[0m\n\u001b[0;32m    156\u001b[0m     \u001b[39mif\u001b[39;00m compute\u001b[39m.\u001b[39mlocation:\n\u001b[0;32m    157\u001b[0m         module_logger\u001b[39m.\u001b[39mwarning(\n\u001b[0;32m    158\u001b[0m             \u001b[39m\"\u001b[39m\u001b[39mWarning: \u001b[39m\u001b[39m'\u001b[39m\u001b[39mLocation\u001b[39m\u001b[39m'\u001b[39m\u001b[39m is not supported for compute type \u001b[39m\u001b[39m%s\u001b[39;00m\u001b[39m and will not be used.\u001b[39m\u001b[39m\"\u001b[39m,\n\u001b[0;32m    159\u001b[0m             compute\u001b[39m.\u001b[39mtype,\n\u001b[0;32m    160\u001b[0m         )\n\u001b[1;32m--> 161\u001b[0m     compute\u001b[39m.\u001b[39mlocation \u001b[39m=\u001b[39m \u001b[39mself\u001b[39;49m\u001b[39m.\u001b[39;49m_get_workspace_location()\n\u001b[0;32m    163\u001b[0m \u001b[39mif\u001b[39;00m \u001b[39mnot\u001b[39;00m compute\u001b[39m.\u001b[39mlocation:\n\u001b[0;32m    164\u001b[0m     compute\u001b[39m.\u001b[39mlocation \u001b[39m=\u001b[39m \u001b[39mself\u001b[39m\u001b[39m.\u001b[39m_get_workspace_location()\n",
      "File \u001b[1;32mc:\\Users\\AA706\\AppData\\Local\\Programs\\Python\\Python310\\lib\\site-packages\\azure\\ai\\ml\\operations\\_compute_operations.py:411\u001b[0m, in \u001b[0;36mComputeOperations._get_workspace_location\u001b[1;34m(self)\u001b[0m\n\u001b[0;32m    410\u001b[0m \u001b[39mdef\u001b[39;00m \u001b[39m_get_workspace_location\u001b[39m(\u001b[39mself\u001b[39m) \u001b[39m-\u001b[39m\u001b[39m>\u001b[39m \u001b[39mstr\u001b[39m:\n\u001b[1;32m--> 411\u001b[0m     workspace \u001b[39m=\u001b[39m \u001b[39mself\u001b[39;49m\u001b[39m.\u001b[39;49m_workspace_operations\u001b[39m.\u001b[39;49mget(\u001b[39mself\u001b[39;49m\u001b[39m.\u001b[39;49m_resource_group_name, \u001b[39mself\u001b[39;49m\u001b[39m.\u001b[39;49m_workspace_name)\n\u001b[0;32m    412\u001b[0m     \u001b[39mreturn\u001b[39;00m workspace\u001b[39m.\u001b[39mlocation\n",
      "File \u001b[1;32mc:\\Users\\AA706\\AppData\\Local\\Programs\\Python\\Python310\\lib\\site-packages\\azure\\core\\tracing\\decorator.py:78\u001b[0m, in \u001b[0;36mdistributed_trace.<locals>.decorator.<locals>.wrapper_use_tracer\u001b[1;34m(*args, **kwargs)\u001b[0m\n\u001b[0;32m     76\u001b[0m span_impl_type \u001b[39m=\u001b[39m settings\u001b[39m.\u001b[39mtracing_implementation()\n\u001b[0;32m     77\u001b[0m \u001b[39mif\u001b[39;00m span_impl_type \u001b[39mis\u001b[39;00m \u001b[39mNone\u001b[39;00m:\n\u001b[1;32m---> 78\u001b[0m     \u001b[39mreturn\u001b[39;00m func(\u001b[39m*\u001b[39margs, \u001b[39m*\u001b[39m\u001b[39m*\u001b[39mkwargs)\n\u001b[0;32m     80\u001b[0m \u001b[39m# Merge span is parameter is set, but only if no explicit parent are passed\u001b[39;00m\n\u001b[0;32m     81\u001b[0m \u001b[39mif\u001b[39;00m merge_span \u001b[39mand\u001b[39;00m \u001b[39mnot\u001b[39;00m passed_in_parent:\n",
      "File \u001b[1;32mc:\\Users\\AA706\\AppData\\Local\\Programs\\Python\\Python310\\lib\\site-packages\\azure\\ai\\ml\\_restclient\\v2022_10_01_preview\\operations\\_workspaces_operations.py:623\u001b[0m, in \u001b[0;36mWorkspacesOperations.get\u001b[1;34m(self, resource_group_name, workspace_name, **kwargs)\u001b[0m\n\u001b[0;32m    620\u001b[0m request \u001b[39m=\u001b[39m _convert_request(request)\n\u001b[0;32m    621\u001b[0m request\u001b[39m.\u001b[39murl \u001b[39m=\u001b[39m \u001b[39mself\u001b[39m\u001b[39m.\u001b[39m_client\u001b[39m.\u001b[39mformat_url(request\u001b[39m.\u001b[39murl)\n\u001b[1;32m--> 623\u001b[0m pipeline_response \u001b[39m=\u001b[39m \u001b[39mself\u001b[39m\u001b[39m.\u001b[39m_client\u001b[39m.\u001b[39m_pipeline\u001b[39m.\u001b[39mrun(  \u001b[39m# pylint: disable=protected-access\u001b[39;00m\n\u001b[0;32m    624\u001b[0m     request,\n\u001b[0;32m    625\u001b[0m     stream\u001b[39m=\u001b[39m\u001b[39mFalse\u001b[39;00m,\n\u001b[0;32m    626\u001b[0m     \u001b[39m*\u001b[39m\u001b[39m*\u001b[39mkwargs\n\u001b[0;32m    627\u001b[0m )\n\u001b[0;32m    628\u001b[0m response \u001b[39m=\u001b[39m pipeline_response\u001b[39m.\u001b[39mhttp_response\n\u001b[0;32m    630\u001b[0m \u001b[39mif\u001b[39;00m response\u001b[39m.\u001b[39mstatus_code \u001b[39mnot\u001b[39;00m \u001b[39min\u001b[39;00m [\u001b[39m200\u001b[39m]:\n",
      "File \u001b[1;32mc:\\Users\\AA706\\AppData\\Local\\Programs\\Python\\Python310\\lib\\site-packages\\azure\\core\\pipeline\\_base.py:230\u001b[0m, in \u001b[0;36mPipeline.run\u001b[1;34m(self, request, **kwargs)\u001b[0m\n\u001b[0;32m    228\u001b[0m pipeline_request: PipelineRequest[HTTPRequestType] \u001b[39m=\u001b[39m PipelineRequest(request, context)\n\u001b[0;32m    229\u001b[0m first_node \u001b[39m=\u001b[39m \u001b[39mself\u001b[39m\u001b[39m.\u001b[39m_impl_policies[\u001b[39m0\u001b[39m] \u001b[39mif\u001b[39;00m \u001b[39mself\u001b[39m\u001b[39m.\u001b[39m_impl_policies \u001b[39melse\u001b[39;00m _TransportRunner(\u001b[39mself\u001b[39m\u001b[39m.\u001b[39m_transport)\n\u001b[1;32m--> 230\u001b[0m \u001b[39mreturn\u001b[39;00m first_node\u001b[39m.\u001b[39;49msend(pipeline_request)\n",
      "File \u001b[1;32mc:\\Users\\AA706\\AppData\\Local\\Programs\\Python\\Python310\\lib\\site-packages\\azure\\core\\pipeline\\_base.py:86\u001b[0m, in \u001b[0;36m_SansIOHTTPPolicyRunner.send\u001b[1;34m(self, request)\u001b[0m\n\u001b[0;32m     84\u001b[0m _await_result(\u001b[39mself\u001b[39m\u001b[39m.\u001b[39m_policy\u001b[39m.\u001b[39mon_request, request)\n\u001b[0;32m     85\u001b[0m \u001b[39mtry\u001b[39;00m:\n\u001b[1;32m---> 86\u001b[0m     response \u001b[39m=\u001b[39m \u001b[39mself\u001b[39;49m\u001b[39m.\u001b[39;49mnext\u001b[39m.\u001b[39;49msend(request)\n\u001b[0;32m     87\u001b[0m \u001b[39mexcept\u001b[39;00m \u001b[39mException\u001b[39;00m:  \u001b[39m# pylint: disable=broad-except\u001b[39;00m\n\u001b[0;32m     88\u001b[0m     _await_result(\u001b[39mself\u001b[39m\u001b[39m.\u001b[39m_policy\u001b[39m.\u001b[39mon_exception, request)\n",
      "File \u001b[1;32mc:\\Users\\AA706\\AppData\\Local\\Programs\\Python\\Python310\\lib\\site-packages\\azure\\core\\pipeline\\_base.py:86\u001b[0m, in \u001b[0;36m_SansIOHTTPPolicyRunner.send\u001b[1;34m(self, request)\u001b[0m\n\u001b[0;32m     84\u001b[0m _await_result(\u001b[39mself\u001b[39m\u001b[39m.\u001b[39m_policy\u001b[39m.\u001b[39mon_request, request)\n\u001b[0;32m     85\u001b[0m \u001b[39mtry\u001b[39;00m:\n\u001b[1;32m---> 86\u001b[0m     response \u001b[39m=\u001b[39m \u001b[39mself\u001b[39;49m\u001b[39m.\u001b[39;49mnext\u001b[39m.\u001b[39;49msend(request)\n\u001b[0;32m     87\u001b[0m \u001b[39mexcept\u001b[39;00m \u001b[39mException\u001b[39;00m:  \u001b[39m# pylint: disable=broad-except\u001b[39;00m\n\u001b[0;32m     88\u001b[0m     _await_result(\u001b[39mself\u001b[39m\u001b[39m.\u001b[39m_policy\u001b[39m.\u001b[39mon_exception, request)\n",
      "    \u001b[1;31m[... skipping similar frames: _SansIOHTTPPolicyRunner.send at line 86 (2 times)]\u001b[0m\n",
      "File \u001b[1;32mc:\\Users\\AA706\\AppData\\Local\\Programs\\Python\\Python310\\lib\\site-packages\\azure\\core\\pipeline\\_base.py:86\u001b[0m, in \u001b[0;36m_SansIOHTTPPolicyRunner.send\u001b[1;34m(self, request)\u001b[0m\n\u001b[0;32m     84\u001b[0m _await_result(\u001b[39mself\u001b[39m\u001b[39m.\u001b[39m_policy\u001b[39m.\u001b[39mon_request, request)\n\u001b[0;32m     85\u001b[0m \u001b[39mtry\u001b[39;00m:\n\u001b[1;32m---> 86\u001b[0m     response \u001b[39m=\u001b[39m \u001b[39mself\u001b[39;49m\u001b[39m.\u001b[39;49mnext\u001b[39m.\u001b[39;49msend(request)\n\u001b[0;32m     87\u001b[0m \u001b[39mexcept\u001b[39;00m \u001b[39mException\u001b[39;00m:  \u001b[39m# pylint: disable=broad-except\u001b[39;00m\n\u001b[0;32m     88\u001b[0m     _await_result(\u001b[39mself\u001b[39m\u001b[39m.\u001b[39m_policy\u001b[39m.\u001b[39mon_exception, request)\n",
      "File \u001b[1;32mc:\\Users\\AA706\\AppData\\Local\\Programs\\Python\\Python310\\lib\\site-packages\\azure\\mgmt\\core\\policies\\_base.py:47\u001b[0m, in \u001b[0;36mARMAutoResourceProviderRegistrationPolicy.send\u001b[1;34m(self, request)\u001b[0m\n\u001b[0;32m     44\u001b[0m \u001b[39mdef\u001b[39;00m \u001b[39msend\u001b[39m(\u001b[39mself\u001b[39m, request):\n\u001b[0;32m     45\u001b[0m     \u001b[39m# type: (PipelineRequest[HTTPRequestType], Any) -> PipelineResponse[HTTPRequestType, HTTPResponseType]\u001b[39;00m\n\u001b[0;32m     46\u001b[0m     http_request \u001b[39m=\u001b[39m request\u001b[39m.\u001b[39mhttp_request\n\u001b[1;32m---> 47\u001b[0m     response \u001b[39m=\u001b[39m \u001b[39mself\u001b[39;49m\u001b[39m.\u001b[39;49mnext\u001b[39m.\u001b[39;49msend(request)\n\u001b[0;32m     48\u001b[0m     \u001b[39mif\u001b[39;00m response\u001b[39m.\u001b[39mhttp_response\u001b[39m.\u001b[39mstatus_code \u001b[39m==\u001b[39m \u001b[39m409\u001b[39m:\n\u001b[0;32m     49\u001b[0m         rp_name \u001b[39m=\u001b[39m \u001b[39mself\u001b[39m\u001b[39m.\u001b[39m_check_rp_not_registered_err(response)\n",
      "File \u001b[1;32mc:\\Users\\AA706\\AppData\\Local\\Programs\\Python\\Python310\\lib\\site-packages\\azure\\core\\pipeline\\policies\\_redirect.py:197\u001b[0m, in \u001b[0;36mRedirectPolicy.send\u001b[1;34m(self, request)\u001b[0m\n\u001b[0;32m    195\u001b[0m original_domain \u001b[39m=\u001b[39m get_domain(request\u001b[39m.\u001b[39mhttp_request\u001b[39m.\u001b[39murl) \u001b[39mif\u001b[39;00m redirect_settings[\u001b[39m\"\u001b[39m\u001b[39mallow\u001b[39m\u001b[39m\"\u001b[39m] \u001b[39melse\u001b[39;00m \u001b[39mNone\u001b[39;00m\n\u001b[0;32m    196\u001b[0m \u001b[39mwhile\u001b[39;00m retryable:\n\u001b[1;32m--> 197\u001b[0m     response \u001b[39m=\u001b[39m \u001b[39mself\u001b[39;49m\u001b[39m.\u001b[39;49mnext\u001b[39m.\u001b[39;49msend(request)\n\u001b[0;32m    198\u001b[0m     redirect_location \u001b[39m=\u001b[39m \u001b[39mself\u001b[39m\u001b[39m.\u001b[39mget_redirect_location(response)\n\u001b[0;32m    199\u001b[0m     \u001b[39mif\u001b[39;00m redirect_location \u001b[39mand\u001b[39;00m redirect_settings[\u001b[39m\"\u001b[39m\u001b[39mallow\u001b[39m\u001b[39m\"\u001b[39m]:\n",
      "File \u001b[1;32mc:\\Users\\AA706\\AppData\\Local\\Programs\\Python\\Python310\\lib\\site-packages\\azure\\core\\pipeline\\policies\\_retry.py:531\u001b[0m, in \u001b[0;36mRetryPolicy.send\u001b[1;34m(self, request)\u001b[0m\n\u001b[0;32m    529\u001b[0m \u001b[39mtry\u001b[39;00m:\n\u001b[0;32m    530\u001b[0m     \u001b[39mself\u001b[39m\u001b[39m.\u001b[39m_configure_timeout(request, absolute_timeout, is_response_error)\n\u001b[1;32m--> 531\u001b[0m     response \u001b[39m=\u001b[39m \u001b[39mself\u001b[39;49m\u001b[39m.\u001b[39;49mnext\u001b[39m.\u001b[39;49msend(request)\n\u001b[0;32m    532\u001b[0m     \u001b[39mif\u001b[39;00m \u001b[39mself\u001b[39m\u001b[39m.\u001b[39mis_retry(retry_settings, response):\n\u001b[0;32m    533\u001b[0m         retry_active \u001b[39m=\u001b[39m \u001b[39mself\u001b[39m\u001b[39m.\u001b[39mincrement(retry_settings, response\u001b[39m=\u001b[39mresponse)\n",
      "File \u001b[1;32mc:\\Users\\AA706\\AppData\\Local\\Programs\\Python\\Python310\\lib\\site-packages\\azure\\core\\pipeline\\policies\\_authentication.py:124\u001b[0m, in \u001b[0;36mBearerTokenCredentialPolicy.send\u001b[1;34m(self, request)\u001b[0m\n\u001b[0;32m    116\u001b[0m \u001b[39mdef\u001b[39;00m \u001b[39msend\u001b[39m(\u001b[39mself\u001b[39m, request: PipelineRequest[HTTPRequestType]) \u001b[39m-\u001b[39m\u001b[39m>\u001b[39m PipelineResponse[HTTPRequestType, HTTPResponseType]:\n\u001b[0;32m    117\u001b[0m \u001b[39m    \u001b[39m\u001b[39m\"\"\"Authorize request with a bearer token and send it to the next policy\u001b[39;00m\n\u001b[0;32m    118\u001b[0m \n\u001b[0;32m    119\u001b[0m \u001b[39m    :param request: The pipeline request object\u001b[39;00m\n\u001b[1;32m   (...)\u001b[0m\n\u001b[0;32m    122\u001b[0m \u001b[39m    :rtype: ~azure.core.pipeline.PipelineResponse\u001b[39;00m\n\u001b[0;32m    123\u001b[0m \u001b[39m    \"\"\"\u001b[39;00m\n\u001b[1;32m--> 124\u001b[0m     \u001b[39mself\u001b[39;49m\u001b[39m.\u001b[39;49mon_request(request)\n\u001b[0;32m    125\u001b[0m     \u001b[39mtry\u001b[39;00m:\n\u001b[0;32m    126\u001b[0m         response \u001b[39m=\u001b[39m \u001b[39mself\u001b[39m\u001b[39m.\u001b[39mnext\u001b[39m.\u001b[39msend(request)\n",
      "File \u001b[1;32mc:\\Users\\AA706\\AppData\\Local\\Programs\\Python\\Python310\\lib\\site-packages\\azure\\core\\pipeline\\policies\\_authentication.py:99\u001b[0m, in \u001b[0;36mBearerTokenCredentialPolicy.on_request\u001b[1;34m(self, request)\u001b[0m\n\u001b[0;32m     97\u001b[0m         \u001b[39mself\u001b[39m\u001b[39m.\u001b[39m_token \u001b[39m=\u001b[39m \u001b[39mself\u001b[39m\u001b[39m.\u001b[39m_credential\u001b[39m.\u001b[39mget_token(\u001b[39m*\u001b[39m\u001b[39mself\u001b[39m\u001b[39m.\u001b[39m_scopes, enable_cae\u001b[39m=\u001b[39m\u001b[39mself\u001b[39m\u001b[39m.\u001b[39m_enable_cae)\n\u001b[0;32m     98\u001b[0m     \u001b[39melse\u001b[39;00m:\n\u001b[1;32m---> 99\u001b[0m         \u001b[39mself\u001b[39m\u001b[39m.\u001b[39m_token \u001b[39m=\u001b[39m \u001b[39mself\u001b[39;49m\u001b[39m.\u001b[39;49m_credential\u001b[39m.\u001b[39;49mget_token(\u001b[39m*\u001b[39;49m\u001b[39mself\u001b[39;49m\u001b[39m.\u001b[39;49m_scopes)\n\u001b[0;32m    100\u001b[0m \u001b[39mself\u001b[39m\u001b[39m.\u001b[39m_update_headers(request\u001b[39m.\u001b[39mhttp_request\u001b[39m.\u001b[39mheaders, \u001b[39mself\u001b[39m\u001b[39m.\u001b[39m_token\u001b[39m.\u001b[39mtoken)\n",
      "File \u001b[1;32mc:\\Users\\AA706\\AppData\\Local\\Programs\\Python\\Python310\\lib\\site-packages\\azure\\identity\\_credentials\\default.py:168\u001b[0m, in \u001b[0;36mDefaultAzureCredential.get_token\u001b[1;34m(self, *scopes, **kwargs)\u001b[0m\n\u001b[0;32m    163\u001b[0m     _LOGGER\u001b[39m.\u001b[39minfo(\n\u001b[0;32m    164\u001b[0m         \u001b[39m\"\u001b[39m\u001b[39m%s\u001b[39;00m\u001b[39m acquired a token from \u001b[39m\u001b[39m%s\u001b[39;00m\u001b[39m\"\u001b[39m, \u001b[39mself\u001b[39m\u001b[39m.\u001b[39m\u001b[39m__class__\u001b[39m\u001b[39m.\u001b[39m\u001b[39m__name__\u001b[39m, \u001b[39mself\u001b[39m\u001b[39m.\u001b[39m_successful_credential\u001b[39m.\u001b[39m\u001b[39m__class__\u001b[39m\u001b[39m.\u001b[39m\u001b[39m__name__\u001b[39m\n\u001b[0;32m    165\u001b[0m     )\n\u001b[0;32m    166\u001b[0m     \u001b[39mreturn\u001b[39;00m token\n\u001b[1;32m--> 168\u001b[0m \u001b[39mreturn\u001b[39;00m \u001b[39msuper\u001b[39m(DefaultAzureCredential, \u001b[39mself\u001b[39m)\u001b[39m.\u001b[39mget_token(\u001b[39m*\u001b[39mscopes, \u001b[39m*\u001b[39m\u001b[39m*\u001b[39mkwargs)\n",
      "File \u001b[1;32mc:\\Users\\AA706\\AppData\\Local\\Programs\\Python\\Python310\\lib\\site-packages\\azure\\identity\\_credentials\\chained.py:101\u001b[0m, in \u001b[0;36mChainedTokenCredential.get_token\u001b[1;34m(self, *scopes, **kwargs)\u001b[0m\n\u001b[0;32m     97\u001b[0m message \u001b[39m=\u001b[39m \u001b[39mself\u001b[39m\u001b[39m.\u001b[39m\u001b[39m__class__\u001b[39m\u001b[39m.\u001b[39m\u001b[39m__name__\u001b[39m \u001b[39m+\u001b[39m \u001b[39m\"\u001b[39m\u001b[39m failed to retrieve a token from the included credentials.\u001b[39m\u001b[39m\"\u001b[39m \u001b[39m+\u001b[39m attempts \\\n\u001b[0;32m     98\u001b[0m           \u001b[39m+\u001b[39m \u001b[39m\"\u001b[39m\u001b[39m\\n\u001b[39;00m\u001b[39mTo mitigate this issue, please refer to the troubleshooting guidelines here at \u001b[39m\u001b[39m\"\u001b[39m \\\n\u001b[0;32m     99\u001b[0m             \u001b[39m\"\u001b[39m\u001b[39mhttps://aka.ms/azsdk/python/identity/defaultazurecredential/troubleshoot.\u001b[39m\u001b[39m\"\u001b[39m\n\u001b[0;32m    100\u001b[0m _LOGGER\u001b[39m.\u001b[39mwarning(message)\n\u001b[1;32m--> 101\u001b[0m \u001b[39mraise\u001b[39;00m ClientAuthenticationError(message\u001b[39m=\u001b[39mmessage)\n",
      "\u001b[1;31mClientAuthenticationError\u001b[0m: DefaultAzureCredential failed to retrieve a token from the included credentials.\nAttempted credentials:\n\tEnvironmentCredential: EnvironmentCredential authentication unavailable. Environment variables are not fully configured.\nVisit https://aka.ms/azsdk/python/identity/environmentcredential/troubleshoot to troubleshoot.this issue.\n\tManagedIdentityCredential: Unexpected content type \"text/html\"\nContent: <html><head><title>504 Gateway Timeout</title></head>\r\n<body><h1>Gateway Timeout</h1>\r\n<p>Server error - server 169.254.169.254 is unreachable at this moment.<br><br>Please retry the request or contact your administrator.<br></p>\r\n<!--Zscaler/6.2--></body></html>\r\n\nTo mitigate this issue, please refer to the troubleshooting guidelines here at https://aka.ms/azsdk/python/identity/defaultazurecredential/troubleshoot."
     ]
    }
   ],
   "source": [
    "from azure.ai.ml.entities import ComputeInstance, AmlCompute\n",
    "import datetime\n",
    "\n",
    "ci_basic_name = \"basic-ci\" + datetime.datetime.now().strftime(\"%Y%m%d%H%M\")\n",
    "ci_basic = ComputeInstance(name=ci_basic_name, size=\"Standard_E4s_v3\")\n",
    "ml_client.begin_create_or_update(ci_basic).result()"
   ]
  },
  {
   "cell_type": "code",
   "execution_count": 5,
   "metadata": {},
   "outputs": [],
   "source": [
    "from azureml.core.compute import ComputeTarget, AmlCompute\n",
    "from azureml.core.compute_target import ComputeTargetException\n",
    "\n",
    "def get_aml_cluster(ws, cluster_name, vm_size='STANDARD_D2_V2', max_nodes=4):\n",
    "    try:\n",
    "        cluster = ComputeTarget(workspace=ws, name=cluster_name)\n",
    "    except ComputeTargetException:\n",
    "        config = AmlCompute.provisioning_configuration(vm_size=vm_size, max_nodes=max_nodes)\n",
    "        cluster = ComputeTarget.create(ws, cluster_name, config)\n",
    "    return cluster"
   ]
  },
  {
   "cell_type": "code",
   "execution_count": 6,
   "metadata": {},
   "outputs": [
    {
     "name": "stdout",
     "output_type": "stream",
     "text": [
      "InProgress.....\n",
      "SucceededProvisioning operation finished, operation \"Succeeded\"\n",
      "Succeeded\n",
      "AmlCompute wait for completion finished\n",
      "\n",
      "Minimum number of nodes requested have been provisioned\n"
     ]
    }
   ],
   "source": [
    "# Create or get training cluster\n",
    "aml_cluster = get_aml_cluster(ws, cluster_name=\"AA706-Compute-test01\")\n",
    "aml_cluster.wait_for_completion(show_output=True)"
   ]
  },
  {
   "cell_type": "code",
   "execution_count": 9,
   "metadata": {},
   "outputs": [],
   "source": [
    "from azureml.core.runconfig import RunConfiguration\n",
    "from azureml.core.conda_dependencies import CondaDependencies\n",
    "from azureml.core import Environment \n",
    "\n",
    "aml_run_config = RunConfiguration()\n",
    "\n",
    "# Set the target compute to your Azure Machine Learning compute cluster\n",
    "aml_run_config.target = aml_cluster\n",
    "\n",
    "# Use a curated environment\n",
    "USE_CURATED_ENV = True\n",
    "if USE_CURATED_ENV:\n",
    "\n",
    "    curated_environment = Environment.get(workspace=ws, name=\"AzureML-Tutorial\")\n",
    "    curated_environment = curated_environment.clone(\"mlops_env\")\n",
    "\n",
    "    conda_dep = curated_environment.python.conda_dependencies\n",
    "    conda_dep.add_conda_package(\"sentence-transformers\")\n",
    "    # conda_dep.add_conda_package(\"mlflow==2.4\")\n",
    "\n",
    "    curated_environment.python.conda_dependencies = conda_dep\n",
    "    curated_environment.register(workspace=ws)\n",
    "    aml_run_config.environment = curated_environment\n",
    "else:\n",
    "    # Use user-managed dependencies\n",
    "    aml_run_config.environment.python.user_managed_dependencies = True\n",
    "\n",
    "    # Add the required packages\n",
    "    dependencies = CondaDependencies.create(conda_packages=['pandas', 'scikit-learn', 'seaborn', 'tqdm', 'numpy', 'tensorflow', 'spacy'],\n",
    "                                            pip_packages=['azureml-sdk', 'nltk', 'string', 're'],\n",
    "                                            channels=['conda-forge'])\n",
    "    aml_run_config.environment.python.conda_dependencies = dependencies\n",
    "\n"
   ]
  },
  {
   "cell_type": "code",
   "execution_count": 10,
   "metadata": {},
   "outputs": [],
   "source": [
    "#prams for spam detector model\n",
    "\n",
    "script_params = [\n",
    "    '--data', dataset2.as_named_input('cleaned_dataset'),\n",
    "    '--colsample-bytree', '0.4955555555555555',\n",
    "    '--learning-rate', '0.09473736842105263',\n",
    "    '--max-bin', '200',\n",
    "    '--max-depth', '25',\n",
    "#     '--min-split_gain', '0.10526315789473684',\n",
    "    '--n-estimators', '25',\n",
    "    '--num-leaves', '164',\n",
    "    '--reg-alpha', '0.3157894736842105',\n",
    "    '--reg-lambda', '0.3157894736842105',\n",
    "    '--subsample', '0.5942105263157895'\n",
    "    \n",
    "]"
   ]
  },
  {
   "cell_type": "code",
   "execution_count": 11,
   "metadata": {},
   "outputs": [],
   "source": [
    "import mlflow\n",
    "tracking_uri = ws.get_mlflow_tracking_uri()\n",
    "mlflow.set_tracking_uri(tracking_uri)"
   ]
  },
  {
   "cell_type": "code",
   "execution_count": 12,
   "metadata": {},
   "outputs": [
    {
     "data": {
      "text/plain": [
       "'azureml'"
      ]
     },
     "execution_count": 12,
     "metadata": {},
     "output_type": "execute_result"
    }
   ],
   "source": [
    "from urllib.parse import urlparse\n",
    "\n",
    "urlparse(mlflow.get_tracking_uri()).scheme"
   ]
  },
  {
   "cell_type": "code",
   "execution_count": 13,
   "metadata": {},
   "outputs": [
    {
     "data": {
      "text/plain": [
       "<Experiment: artifact_location='', creation_time=1685737192753, experiment_id='b2dd71a7-7844-47e8-b001-f693e402041d', last_update_time=None, lifecycle_stage='active', name='mlflow-spam', tags={}>"
      ]
     },
     "execution_count": 13,
     "metadata": {},
     "output_type": "execute_result"
    }
   ],
   "source": [
    "experimentName = \"mlflow-spam\"\n",
    "mlflow.set_experiment(experimentName)\n"
   ]
  },
  {
   "cell_type": "code",
   "execution_count": 14,
   "metadata": {},
   "outputs": [
    {
     "ename": "AttributeError",
     "evalue": "module 'azureml._restclient' has no attribute 'snapshots_client'",
     "output_type": "error",
     "traceback": [
      "\u001b[1;31m---------------------------------------------------------------------------\u001b[0m",
      "\u001b[1;31mAttributeError\u001b[0m                            Traceback (most recent call last)",
      "Cell \u001b[1;32mIn[14], line 3\u001b[0m\n\u001b[0;32m      1\u001b[0m \u001b[39mimport\u001b[39;00m \u001b[39mazureml\u001b[39;00m\n\u001b[1;32m----> 3\u001b[0m azureml\u001b[39m.\u001b[39;49m_restclient\u001b[39m.\u001b[39;49msnapshots_client\u001b[39m.\u001b[39mSNAPSHOT_MAX_SIZE_BYTES \u001b[39m=\u001b[39m \u001b[39m1000000000\u001b[39m\n",
      "\u001b[1;31mAttributeError\u001b[0m: module 'azureml._restclient' has no attribute 'snapshots_client'"
     ]
    }
   ],
   "source": [
    "import azureml\n",
    "\n",
    "azureml._restclient.snapshots_client.SNAPSHOT_MAX_SIZE_BYTES = 1000000000"
   ]
  },
  {
   "cell_type": "code",
   "execution_count": 15,
   "metadata": {},
   "outputs": [],
   "source": [
    "#mlflow steps\n",
    "\n",
    "from azureml.core import ScriptRunConfig\n",
    "script = 'model_spam(mlflow).py'\n",
    "script_folder = os.getcwd()\n",
    "src = ScriptRunConfig(source_directory=script_folder,script=script,  run_config=aml_run_config,\n",
    "  arguments=script_params)\n",
    "\n"
   ]
  },
  {
   "cell_type": "code",
   "execution_count": null,
   "metadata": {},
   "outputs": [
    {
     "data": {
      "application/vnd.jupyter.widget-view+json": {
       "model_id": "11316ab1902a4bcca4a1dd6d20867a1f",
       "version_major": 2,
       "version_minor": 0
      },
      "text/plain": [
       "_UserRunWidget(widget_settings={'childWidgetDisplay': 'popup', 'send_telemetry': False, 'log_level': 'INFO', '…"
      ]
     },
     "metadata": {},
     "output_type": "display_data"
    },
    {
     "data": {
      "application/aml.mini.widget.v1": "\"AuthenticationException:\\n\\tMessage: Please ensure you have network connection. Error detail: HTTPSConnectionPool(host='login.microsoftonline.com', port=443): Max retries exceeded with url: /organizations/v2.0/.well-known/openid-configuration (Caused by ProxyError('Cannot connect to proxy.', NewConnectionError('<urllib3.connection.HTTPSConnection object at 0x00000250636253F0>: Failed to establish a new connection: [Errno 11001] getaddrinfo failed')))\\n\\tInnerException None\\n\\tErrorResponse \\n{\\n    \\\"error\\\": {\\n        \\\"code\\\": \\\"UserError\\\",\\n        \\\"inner_error\\\": {\\n            \\\"code\\\": \\\"Authentication\\\"\\n        },\\n        \\\"message\\\": \\\"Please ensure you have network connection. Error detail: HTTPSConnectionPool(host='login.microsoftonline.com', port=443): Max retries exceeded with url: /organizations/v2.0/.well-known/openid-configuration (Caused by ProxyError('Cannot connect to proxy.', NewConnectionError('<urllib3.connection.HTTPSConnection object at 0x00000250636253F0>: Failed to establish a new connection: [Errno 11001] getaddrinfo failed')))\\\"\\n    }\\n}\""
     },
     "metadata": {},
     "output_type": "display_data"
    },
    {
     "name": "stdout",
     "output_type": "stream",
     "text": [
      "Performing interactive authentication. Please follow the instructions on the terminal.\n",
      "Performing interactive authentication. Please follow the instructions on the terminal.\n",
      "Performing interactive authentication. Please follow the instructions on the terminal.\n",
      "Performing interactive authentication. Please follow the instructions on the terminal.\n"
     ]
    },
    {
     "ename": "",
     "evalue": "",
     "output_type": "error",
     "traceback": [
      "\u001b[1;31mThe Kernel crashed while executing code in the the current cell or a previous cell. Please review the code in the cell(s) to identify a possible cause of the failure. Click <a href='https://aka.ms/vscodeJupyterKernelCrash'>here</a> for more info. View Jupyter <a href='command:jupyter.viewOutput'>log</a> for further details."
     ]
    }
   ],
   "source": [
    "from azureml.core import Experiment\n",
    "from azureml.widgets import RunDetails\n",
    "\n",
    "exp = Experiment(ws, experimentName)\n",
    "run = exp.submit(src)\n",
    "RunDetails(run).show()"
   ]
  },
  {
   "cell_type": "code",
   "execution_count": 22,
   "metadata": {},
   "outputs": [
    {
     "ename": "UserErrorException",
     "evalue": "UserErrorException:\n\tMessage: You are currently logged-in to 2434528d-4270-4977-81dd-a6308c1761a3 tenant. You don't have access to <> subscription, please check if it is in this tenant. All the subscriptions that you have access to in this tenant are = \n [SubscriptionInfo(subscription_name='NT-SHSR-CUS-DEV', subscription_id='b0150fa8-a4e4-4e98-aa34-eefa8d9318aa'), SubscriptionInfo(subscription_name='NT-HUB-CUS-DEV', subscription_id='bd7ecba9-df05-4607-8346-6194916fa6da'), SubscriptionInfo(subscription_name='NT-OOF-CUS-DEV', subscription_id='738974c0-9684-498b-bbd0-c53d6d04d964'), SubscriptionInfo(subscription_name='GTM-Production', subscription_id='8d509fc1-4597-45d5-a20b-f39a4b10d3ff'), SubscriptionInfo(subscription_name='NT-LAB-CUS-PCET', subscription_id='3893f7d5-8bcd-4025-89ed-b5ea372f4b1e'), SubscriptionInfo(subscription_name='NT-SHSR-CUS-UAT', subscription_id='713c7167-4758-4776-978e-0c5f1224192a')]. \n Please refer to aka.ms/aml-notebook-auth for different authentication mechanisms in azureml-sdk.\n\tInnerException None\n\tErrorResponse \n{\n    \"error\": {\n        \"code\": \"UserError\",\n        \"message\": \"You are currently logged-in to 2434528d-4270-4977-81dd-a6308c1761a3 tenant. You don't have access to <> subscription, please check if it is in this tenant. All the subscriptions that you have access to in this tenant are = \\n [SubscriptionInfo(subscription_name='NT-SHSR-CUS-DEV', subscription_id='b0150fa8-a4e4-4e98-aa34-eefa8d9318aa'), SubscriptionInfo(subscription_name='NT-HUB-CUS-DEV', subscription_id='bd7ecba9-df05-4607-8346-6194916fa6da'), SubscriptionInfo(subscription_name='NT-OOF-CUS-DEV', subscription_id='738974c0-9684-498b-bbd0-c53d6d04d964'), SubscriptionInfo(subscription_name='GTM-Production', subscription_id='8d509fc1-4597-45d5-a20b-f39a4b10d3ff'), SubscriptionInfo(subscription_name='NT-LAB-CUS-PCET', subscription_id='3893f7d5-8bcd-4025-89ed-b5ea372f4b1e'), SubscriptionInfo(subscription_name='NT-SHSR-CUS-UAT', subscription_id='713c7167-4758-4776-978e-0c5f1224192a')]. \\n Please refer to aka.ms/aml-notebook-auth for different authentication mechanisms in azureml-sdk.\"\n    }\n}",
     "output_type": "error",
     "traceback": [
      "\u001b[1;31m---------------------------------------------------------------------------\u001b[0m",
      "\u001b[1;31mUserErrorException\u001b[0m                        Traceback (most recent call last)",
      "Cell \u001b[1;32mIn[22], line 3\u001b[0m\n\u001b[0;32m      1\u001b[0m \u001b[39m#connecting workspace\u001b[39;00m\n\u001b[0;32m      2\u001b[0m \u001b[39mfrom\u001b[39;00m \u001b[39mazureml\u001b[39;00m\u001b[39m.\u001b[39;00m\u001b[39mcore\u001b[39;00m \u001b[39mimport\u001b[39;00m Workspace\n\u001b[1;32m----> 3\u001b[0m ws \u001b[39m=\u001b[39m Workspace(subscription_id\u001b[39m=\u001b[39;49m\u001b[39m'\u001b[39;49m\u001b[39m<>\u001b[39;49m\u001b[39m'\u001b[39;49m, resource_group\u001b[39m=\u001b[39;49m\u001b[39m'\u001b[39;49m\u001b[39m<>\u001b[39;49m\u001b[39m'\u001b[39;49m, workspace_name\u001b[39m=\u001b[39;49m\u001b[39m'\u001b[39;49m\u001b[39m<>\u001b[39;49m\u001b[39m'\u001b[39;49m)\n",
      "File \u001b[1;32mc:\\Users\\AA706\\AppData\\Local\\Programs\\Python\\Python310\\lib\\site-packages\\azureml\\core\\workspace.py:205\u001b[0m, in \u001b[0;36mWorkspace.__init__\u001b[1;34m(self, subscription_id, resource_group, workspace_name, auth, _location, _disable_service_check, _workspace_id, sku, tags, _cloud)\u001b[0m\n\u001b[0;32m    202\u001b[0m \u001b[39mself\u001b[39m\u001b[39m.\u001b[39m_workspace_autorest_object \u001b[39m=\u001b[39m \u001b[39mNone\u001b[39;00m\n\u001b[0;32m    204\u001b[0m \u001b[39mif\u001b[39;00m \u001b[39mnot\u001b[39;00m _disable_service_check:\n\u001b[1;32m--> 205\u001b[0m     auto_rest_workspace \u001b[39m=\u001b[39m _commands\u001b[39m.\u001b[39;49mget_workspace(\n\u001b[0;32m    206\u001b[0m         auth, subscription_id, resource_group, workspace_name, _location, _cloud, _workspace_id)\n\u001b[0;32m    207\u001b[0m     \u001b[39mself\u001b[39m\u001b[39m.\u001b[39m_workspace_autorest_object \u001b[39m=\u001b[39m auto_rest_workspace\n\u001b[0;32m    209\u001b[0m \u001b[39mself\u001b[39m\u001b[39m.\u001b[39m_service_context \u001b[39m=\u001b[39m \u001b[39mNone\u001b[39;00m\n",
      "File \u001b[1;32mc:\\Users\\AA706\\AppData\\Local\\Programs\\Python\\Python310\\lib\\site-packages\\azureml\\_project\\_commands.py:467\u001b[0m, in \u001b[0;36mget_workspace\u001b[1;34m(auth, subscription_id, resource_group_name, workspace_name, location, cloud, workspace_id)\u001b[0m\n\u001b[0;32m    465\u001b[0m \u001b[39melse\u001b[39;00m:\n\u001b[0;32m    466\u001b[0m     \u001b[39mtry\u001b[39;00m:\n\u001b[1;32m--> 467\u001b[0m         workspaces \u001b[39m=\u001b[39m auth\u001b[39m.\u001b[39;49m_get_service_client(\n\u001b[0;32m    468\u001b[0m             AzureMachineLearningWorkspaces,\n\u001b[0;32m    469\u001b[0m             subscription_id)\u001b[39m.\u001b[39mworkspaces\n\u001b[0;32m    470\u001b[0m         \u001b[39mreturn\u001b[39;00m WorkspacesOperations\u001b[39m.\u001b[39mget(\n\u001b[0;32m    471\u001b[0m             workspaces,\n\u001b[0;32m    472\u001b[0m             resource_group_name,\n\u001b[0;32m    473\u001b[0m             workspace_name)\n\u001b[0;32m    474\u001b[0m     \u001b[39mexcept\u001b[39;00m ClientRequestError:\n\u001b[0;32m    475\u001b[0m         \u001b[39m# this most likely is because of failure to talk to arm.\u001b[39;00m\n\u001b[0;32m    476\u001b[0m         \u001b[39m# Provide error message to user if they are in synapse enviroment.\u001b[39;00m\n\u001b[0;32m    477\u001b[0m         \u001b[39m# Additional params will enable aml dataplane get workspace call. \u001b[39;00m\n",
      "File \u001b[1;32mc:\\Users\\AA706\\AppData\\Local\\Programs\\Python\\Python310\\lib\\site-packages\\azureml\\core\\authentication.py:230\u001b[0m, in \u001b[0;36mAbstractAuthentication._get_service_client\u001b[1;34m(self, client_class, subscription_id, subscription_bound, base_url, is_check_subscription)\u001b[0m\n\u001b[0;32m    228\u001b[0m \u001b[39mif\u001b[39;00m subscription_id \u001b[39mand\u001b[39;00m is_check_subscription:\n\u001b[0;32m    229\u001b[0m     all_subscription_list, tenant_id \u001b[39m=\u001b[39m \u001b[39mself\u001b[39m\u001b[39m.\u001b[39m_get_all_subscription_ids()\n\u001b[1;32m--> 230\u001b[0m     \u001b[39mself\u001b[39;49m\u001b[39m.\u001b[39;49m_check_if_subscription_exists(subscription_id, all_subscription_list, tenant_id)\n\u001b[0;32m    232\u001b[0m \u001b[39mif\u001b[39;00m \u001b[39mnot\u001b[39;00m base_url:\n\u001b[0;32m    233\u001b[0m     base_url \u001b[39m=\u001b[39m \u001b[39mself\u001b[39m\u001b[39m.\u001b[39m_cloud_type\u001b[39m.\u001b[39mendpoints\u001b[39m.\u001b[39mresource_manager\n",
      "File \u001b[1;32mc:\\Users\\AA706\\AppData\\Local\\Programs\\Python\\Python310\\lib\\site-packages\\azureml\\core\\authentication.py:681\u001b[0m, in \u001b[0;36mInteractiveLoginAuthentication._check_if_subscription_exists\u001b[1;34m(self, subscription_id, subscription_id_list, tenant_id)\u001b[0m\n\u001b[0;32m    680\u001b[0m \u001b[39mdef\u001b[39;00m \u001b[39m_check_if_subscription_exists\u001b[39m(\u001b[39mself\u001b[39m, subscription_id, subscription_id_list, tenant_id):\n\u001b[1;32m--> 681\u001b[0m     \u001b[39msuper\u001b[39;49m(InteractiveLoginAuthentication, \u001b[39mself\u001b[39;49m)\u001b[39m.\u001b[39;49m_check_if_subscription_exists(subscription_id,\n\u001b[0;32m    682\u001b[0m                                                                               subscription_id_list, tenant_id)\n",
      "File \u001b[1;32mc:\\Users\\AA706\\AppData\\Local\\Programs\\Python\\Python310\\lib\\site-packages\\azureml\\core\\authentication.py:338\u001b[0m, in \u001b[0;36mAbstractAuthentication._check_if_subscription_exists\u001b[1;34m(self, subscription_id, subscription_id_list, tenant_id)\u001b[0m\n\u001b[0;32m    333\u001b[0m     \u001b[39mraise\u001b[39;00m UserErrorException(\u001b[39m\"\u001b[39m\u001b[39mIt looks like you have specified subscription name, \u001b[39m\u001b[39m{}\u001b[39;00m\u001b[39m, instead of \u001b[39m\u001b[39m\"\u001b[39m\n\u001b[0;32m    334\u001b[0m                              \u001b[39m\"\u001b[39m\u001b[39msubscription id. Subscription names may not be unique, please specify \u001b[39m\u001b[39m\"\u001b[39m\n\u001b[0;32m    335\u001b[0m                              \u001b[39m\"\u001b[39m\u001b[39msubscription id from this list \u001b[39m\u001b[39m\\n\u001b[39;00m\u001b[39m \u001b[39m\u001b[39m{}\u001b[39;00m\u001b[39m\"\u001b[39m\u001b[39m.\u001b[39mformat(subscription_id,\n\u001b[0;32m    336\u001b[0m                                                                            subscription_id_list))\n\u001b[0;32m    337\u001b[0m \u001b[39melse\u001b[39;00m:\n\u001b[1;32m--> 338\u001b[0m     \u001b[39mraise\u001b[39;00m UserErrorException(\u001b[39m\"\u001b[39m\u001b[39mYou are currently logged-in to \u001b[39m\u001b[39m{}\u001b[39;00m\u001b[39m tenant. You don\u001b[39m\u001b[39m'\u001b[39m\u001b[39mt have access \u001b[39m\u001b[39m\"\u001b[39m\n\u001b[0;32m    339\u001b[0m                              \u001b[39m\"\u001b[39m\u001b[39mto \u001b[39m\u001b[39m{}\u001b[39;00m\u001b[39m subscription, please check if it is in this tenant. \u001b[39m\u001b[39m\"\u001b[39m\n\u001b[0;32m    340\u001b[0m                              \u001b[39m\"\u001b[39m\u001b[39mAll the subscriptions that you have access to in this tenant are = \u001b[39m\u001b[39m\\n\u001b[39;00m\u001b[39m \u001b[39m\u001b[39m\"\u001b[39m\n\u001b[0;32m    341\u001b[0m                              \u001b[39m\"\u001b[39m\u001b[39m{}\u001b[39;00m\u001b[39m. \u001b[39m\u001b[39m\\n\u001b[39;00m\u001b[39m Please refer to aka.ms/aml-notebook-auth for different \u001b[39m\u001b[39m\"\u001b[39m\n\u001b[0;32m    342\u001b[0m                              \u001b[39m\"\u001b[39m\u001b[39mauthentication mechanisms in azureml-sdk.\u001b[39m\u001b[39m\"\u001b[39m\u001b[39m.\u001b[39mformat(tenant_id,\n\u001b[0;32m    343\u001b[0m                                                                                 subscription_id,\n\u001b[0;32m    344\u001b[0m                                                                                 subscription_id_list))\n",
      "\u001b[1;31mUserErrorException\u001b[0m: UserErrorException:\n\tMessage: You are currently logged-in to 2434528d-4270-4977-81dd-a6308c1761a3 tenant. You don't have access to <> subscription, please check if it is in this tenant. All the subscriptions that you have access to in this tenant are = \n [SubscriptionInfo(subscription_name='NT-SHSR-CUS-DEV', subscription_id='b0150fa8-a4e4-4e98-aa34-eefa8d9318aa'), SubscriptionInfo(subscription_name='NT-HUB-CUS-DEV', subscription_id='bd7ecba9-df05-4607-8346-6194916fa6da'), SubscriptionInfo(subscription_name='NT-OOF-CUS-DEV', subscription_id='738974c0-9684-498b-bbd0-c53d6d04d964'), SubscriptionInfo(subscription_name='GTM-Production', subscription_id='8d509fc1-4597-45d5-a20b-f39a4b10d3ff'), SubscriptionInfo(subscription_name='NT-LAB-CUS-PCET', subscription_id='3893f7d5-8bcd-4025-89ed-b5ea372f4b1e'), SubscriptionInfo(subscription_name='NT-SHSR-CUS-UAT', subscription_id='713c7167-4758-4776-978e-0c5f1224192a')]. \n Please refer to aka.ms/aml-notebook-auth for different authentication mechanisms in azureml-sdk.\n\tInnerException None\n\tErrorResponse \n{\n    \"error\": {\n        \"code\": \"UserError\",\n        \"message\": \"You are currently logged-in to 2434528d-4270-4977-81dd-a6308c1761a3 tenant. You don't have access to <> subscription, please check if it is in this tenant. All the subscriptions that you have access to in this tenant are = \\n [SubscriptionInfo(subscription_name='NT-SHSR-CUS-DEV', subscription_id='b0150fa8-a4e4-4e98-aa34-eefa8d9318aa'), SubscriptionInfo(subscription_name='NT-HUB-CUS-DEV', subscription_id='bd7ecba9-df05-4607-8346-6194916fa6da'), SubscriptionInfo(subscription_name='NT-OOF-CUS-DEV', subscription_id='738974c0-9684-498b-bbd0-c53d6d04d964'), SubscriptionInfo(subscription_name='GTM-Production', subscription_id='8d509fc1-4597-45d5-a20b-f39a4b10d3ff'), SubscriptionInfo(subscription_name='NT-LAB-CUS-PCET', subscription_id='3893f7d5-8bcd-4025-89ed-b5ea372f4b1e'), SubscriptionInfo(subscription_name='NT-SHSR-CUS-UAT', subscription_id='713c7167-4758-4776-978e-0c5f1224192a')]. \\n Please refer to aka.ms/aml-notebook-auth for different authentication mechanisms in azureml-sdk.\"\n    }\n}"
     ]
    }
   ],
   "source": [
    "#connecting workspace\n",
    "from azureml.core import Workspace\n",
    "ws = Workspace(subscription_id='<>', resource_group='<>', workspace_name='<>')\n"
   ]
  },
  {
   "cell_type": "code",
   "execution_count": null,
   "metadata": {},
   "outputs": [],
   "source": []
  }
 ],
 "metadata": {
  "kernelspec": {
   "display_name": "Python 3",
   "language": "python",
   "name": "python3"
  },
  "language_info": {
   "codemirror_mode": {
    "name": "ipython",
    "version": 3
   },
   "file_extension": ".py",
   "mimetype": "text/x-python",
   "name": "python",
   "nbconvert_exporter": "python",
   "pygments_lexer": "ipython3",
   "version": "3.10.5"
  },
  "orig_nbformat": 4
 },
 "nbformat": 4,
 "nbformat_minor": 2
}
